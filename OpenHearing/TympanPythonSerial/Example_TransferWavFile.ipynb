{
 "cells": [
  {
   "cell_type": "markdown",
   "metadata": {},
   "source": [
    "# Demo Retrieving Wav Files to Tympan"
   ]
  },
  {
   "cell_type": "code",
   "execution_count": 1,
   "metadata": {},
   "outputs": [],
   "source": [
    "import getFileFromTympan as tymp                # Module for managing Tympan serial ports and file transfer\n",
    "import serial #pip install pyserial\n",
    "from time import sleep\n",
    "\n",
    "# Globals\n",
    "#my_com_port = 'COM9'    #Look in the Arduino IDE! \n",
    "tympan_vid = 5824\n",
    "get_audio_filename = 'AUDIO003.WAV'"
   ]
  },
  {
   "cell_type": "markdown",
   "metadata": {},
   "source": [
    "### List Tympan Serial Ports"
   ]
  },
  {
   "cell_type": "code",
   "execution_count": 2,
   "metadata": {},
   "outputs": [
    {
     "name": "stdout",
     "output_type": "stream",
     "text": [
      "USB Serial Device (COM9)          Teensy \n",
      "[<serial.tools.list_ports_common.ListPortInfo object at 0x0000017254CB3CB0>]\n"
     ]
    }
   ],
   "source": [
    "# Get list of Tympan serial ports that match the serial port's VID\n",
    "available_ports = tymp.get_tympan_ports(target_vid=tympan_vid)\n",
    "\n",
    "if (available_ports):\n",
    "    print(available_ports)\n",
    "\n",
    "else:\n",
    "    print(\"Err: No Tympan ports found\")\n",
    "\n",
    "# Print details on all the ports\n",
    "#print(tymp.get_port_info(tympan_ports))\n"
   ]
  },
  {
   "cell_type": "markdown",
   "metadata": {},
   "source": [
    "### Open Serial Port"
   ]
  },
  {
   "cell_type": "code",
   "execution_count": 3,
   "metadata": {},
   "outputs": [
    {
     "name": "stdout",
     "output_type": "stream",
     "text": [
      "Opened:  COM9\n"
     ]
    }
   ],
   "source": [
    "#target_port = available_ports[0]\n",
    "tympan_port = []                                            # Placeholder for opened tympan port\n",
    "\n",
    "# Method for opening a tympan port\n",
    "def open_serial_port(port_to_open, retries=5):\n",
    "    connected_flag = False\n",
    "\n",
    "    # Open serial port\n",
    "    while ( not (connected_flag) and (retries>0) ):\n",
    "        try: \n",
    "            my_port = serial.Serial(port=port_to_open.device, baudrate=115200, timeout=0.5) #baudrate doesn't matter for Tympan; wait period in sec\n",
    "            \n",
    "            if(my_port.is_open):\n",
    "                print(\"Opened: \", port_to_open.device)\n",
    "                connected_flag = True\n",
    "        \n",
    "        except serial.SerialException as e:\n",
    "            print(e)\n",
    "            print(\"Closing \", my_port.port)\n",
    "            \n",
    "            # close and try again\n",
    "            my_port.close()\n",
    "            retries-=1\n",
    "            sleep(1)\n",
    "\n",
    "    return my_port\n",
    "\n",
    "\n",
    "\n",
    "# Check that there are available ports\n",
    "if (available_ports):\n",
    "    try:\n",
    "        # if serial port opened previously, close it\n",
    "        if 'my_port' in locals():\n",
    "            tympan_port.close()\n",
    "\n",
    "        # If port is specified, open it.\n",
    "        if 'target_port' in locals():\n",
    "            tympan_port = open_serial_port(target_port)\n",
    "    \n",
    "        # Else If only one port, open it\n",
    "        elif (len(available_ports)==1):\n",
    "            target_port = available_ports[0]\n",
    "            tympan_port = open_serial_port(target_port)\n",
    "\n",
    "        # Else more than one Tympan port, need to specify\n",
    "        else:\n",
    "            print(\"More than one Tympan port.  Please specify target_port\")\n",
    "\n",
    "    except Exception as e:\n",
    "        print(f\"{type(e).__name__} at line {e.__traceback__.tb_lineno}: {e}\")\n",
    "\n",
    "else:\n",
    "     print(\"Err: No Tympan ports found\")"
   ]
  },
  {
   "cell_type": "markdown",
   "metadata": {},
   "source": [
    "### Print Help Menu"
   ]
  },
  {
   "cell_type": "code",
   "execution_count": 4,
   "metadata": {},
   "outputs": [
    {
     "name": "stdout",
     "output_type": "stream",
     "text": [
      " General: No Prefix\n",
      "\n",
      "   h    : Print this help\n",
      "\n",
      "   w/e/E: INPUT  : Switch to the PCB Mics, pink jacks, or digital mics\n",
      "\n",
      "   k/K  : CHIRP  : Incr/decrease loudness of chirp (cur = 0.0 dBFS)\n",
      "\n",
      "   d/D  : CHIRP  : Incr/decrease duration of chirp (cur = 4.0 sec)\n",
      "\n",
      "   n    : CHIRP  : Start the chirp\n",
      "\n",
      "   1-3  : SDPlay : Play files 1-3 from SD Card\n",
      "\n",
      "   q    : SDPlay : Stop any currently plying SD files\n",
      "\n",
      "   c    : AutoWrite : Start chirp and SD recording together\n",
      "\n",
      "   4-6  : AutoWrite : Start files 1-3 from SD Card and SD recording together\n",
      "\n",
      "   g/G  : OUTPUT : Incr/decrease DAC loudness (cur = -20.0 dB)\n",
      "\n",
      "   r/s  : SDWrite: Manually Start/Stop recording\n",
      "\n",
      "---------------------------------------------------\n",
      "\n",
      "   L    : List of the files on SD card\n",
      "\n",
      "   f    : Open the file from SD (will prompt you for filename)\n",
      "\n",
      "   b    : Get the size of the file in bytes\n",
      "\n",
      "   t    : Transfer the whole file from SD to Serial\n",
      "\n",
      "   >    : SDUtil : Start MTP mode to read SD from PC\n",
      "\n",
      " AudioSDWriter: Prefix = _Ax\n",
      "\n",
      "   r,s,d: SD record/stop/deleteAll\n",
      "\n",
      "\n",
      "\n"
     ]
    }
   ],
   "source": [
    "if (tympan_port):\n",
    "    if (tympan_port.is_open):\n",
    "        reply = []\n",
    "        tymp.sendTextToSerial(tympan_port, 'h')                             # Help Menu\n",
    "        reply = tymp.readMultipleLinesFromSerial(tympan_port, wait_period_sec=0.5)\n",
    "        if not (reply):\n",
    "            print(\"Err: No help menu sent.\")\n",
    "else: \n",
    "    print(\"Err: no port opened\")"
   ]
  },
  {
   "cell_type": "markdown",
   "metadata": {},
   "source": [
    "### Set Mic Input"
   ]
  },
  {
   "cell_type": "code",
   "execution_count": 5,
   "metadata": {},
   "outputs": [
    {
     "name": "stdout",
     "output_type": "stream",
     "text": [
      "SerialManagerBase: sending: STATE=BTN:configPCB:0\n",
      "\n",
      "SerialManagerBase: sending: STATE=BTN:configMIC:0\n",
      "\n",
      "SerialManagerBase: sending: STATE=BTN:configLINE:0\n",
      "\n",
      "SerialManagerBase: sending: STATE=BTN:configPDM:0\n",
      "\n",
      "SerialManagerBase: sending: STATE=BTN:configPDM:1\n",
      "\n",
      "SerialManagerBase: sending: TEXT=BTN:inpGain:0.0\n",
      "\n"
     ]
    }
   ],
   "source": [
    "# Switch to Digital mics\n",
    "tymp.sendTextToSerial(tympan_port, 'E')                             # Digital (PDM) mics\n",
    "#tymp.sendTextToSerial(tympan_port, 'W')                            # Pink mic jack with bias voltage\n",
    "#tymp.sendTextToSerial(tympan_port, 'e')                            # Pink mic jack with no bias (generally not used with typical mics)\n",
    "#tymp.sendTextToSerial(tympan_port, 'w')                            # PCB mics on Tympan board\n",
    "\n",
    "reply = tymp.readMultipleLinesFromSerial(tympan_port, wait_period_sec=0.5)"
   ]
  },
  {
   "cell_type": "markdown",
   "metadata": {},
   "source": [
    "### Play a wav file from SD card"
   ]
  },
  {
   "cell_type": "code",
   "execution_count": 6,
   "metadata": {},
   "outputs": [
    {
     "name": "stdout",
     "output_type": "stream",
     "text": [
      "serviceChirpStartStop: Chirp or SD is still playing...\n",
      "\n",
      "serviceChirpStartStop: Chirp or SD is still playing...\n",
      "\n",
      "serviceChirpStartStop: Chirp or SD is still playing...\n",
      "\n",
      "serviceChirpStartStop: Chirp or SD is still playing...\n",
      "\n",
      "serviceChirpStartStop: Chirp or SD is still playing...\n",
      "\n",
      "serviceChirpStartStop: Chirp or SD has finished.\n",
      "\n"
     ]
    }
   ],
   "source": [
    "# Play wav file from SD card (PLAY1.WAV) and start recording to SD\n",
    "tymp.sendTextToSerial(tympan_port, '1')\n",
    "reply = tymp.readMultipleLinesFromSerial(tympan_port, wait_period_sec=10, end_seq = \"finished.\")     #assumes a short timeout of 0.5s (check 'tympan_port.timeout')\n",
    "tymp.clear_buffer(tympan_port)"
   ]
  },
  {
   "cell_type": "markdown",
   "metadata": {},
   "source": [
    "### Play a wav file from SD and make a recording"
   ]
  },
  {
   "cell_type": "code",
   "execution_count": 7,
   "metadata": {},
   "outputs": [
    {
     "name": "stdout",
     "output_type": "stream",
     "text": [
      "AudioSDWriter: Opened AUDIO024.WAV\n",
      "\n",
      "serviceAudioSdStartStop: Starting SD 1 playback...\n",
      "\n",
      "serviceChirpStartStop: Chirp or SD is still playing...\n",
      "\n",
      "serviceChirpStartStop: Chirp or SD is still playing...\n",
      "\n",
      "serviceChirpStartStop: Chirp or SD is still playing...\n",
      "\n",
      "serviceChirpStartStop: Chirp or SD is still playing...\n",
      "\n",
      "serviceChirpStartStop: Chirp or SD is still playing...\n",
      "\n",
      "serviceChirpStartStop: Chirp or SD has finished.\n",
      "\n"
     ]
    }
   ],
   "source": [
    "# Play wav file from SD card (PLAY1.WAV) and start recording to SD\n",
    "tymp.sendTextToSerial(tympan_port, '4')\n",
    "reply = tymp.readMultipleLinesFromSerial(tympan_port, wait_period_sec=10, end_seq = \"finished.\")     #assumes a short timeout of 0.5s (check 'tympan_port.timeout')\n",
    "tymp.clear_buffer(tympan_port)"
   ]
  },
  {
   "cell_type": "markdown",
   "metadata": {},
   "source": [
    "### List files on Tympan SD card"
   ]
  },
  {
   "cell_type": "code",
   "execution_count": 8,
   "metadata": {},
   "outputs": [
    {
     "name": "stdout",
     "output_type": "stream",
     "text": [
      "REPLY: Listing Files on SD:PLAY1.WAV,PLAY2.WAV,PLAY3.WAV,PLAY4.WAV,AUDIO001.WAV,AUDIO002.WAV,AUDIO003.WAV,AUDIO004.WAV,AUDIO005.WAV,AUDIO006.WAV,AUDIO007.WAV,AUDIO008.WAV,mtpindex.dat,AUDIO009.WAV,AUDIO010.WAV,AUDIO011.WAV,AUDIO012.WAV,AUDIO013.WAV,AUDIO014.WAV,AUDIO015.WAV,AUDIO016.WAV,AUDIO017.WAV,AUDIO018.WAV,AUDIO019.WAV,AUDIO020.WAV,AUDIO021.WAV,AUDIO022.WAV,AUDIO023.WAV,AUDIO024.WAV,\n",
      "RESULT: Files on Tympan SD: ['PLAY1.WAV', 'PLAY2.WAV', 'PLAY3.WAV', 'PLAY4.WAV', 'AUDIO001.WAV', 'AUDIO002.WAV', 'AUDIO003.WAV', 'AUDIO004.WAV', 'AUDIO005.WAV', 'AUDIO006.WAV', 'AUDIO007.WAV', 'AUDIO008.WAV', 'mtpindex.dat', 'AUDIO009.WAV', 'AUDIO010.WAV', 'AUDIO011.WAV', 'AUDIO012.WAV', 'AUDIO013.WAV', 'AUDIO014.WAV', 'AUDIO015.WAV', 'AUDIO016.WAV', 'AUDIO017.WAV', 'AUDIO018.WAV', 'AUDIO019.WAV', 'AUDIO020.WAV', 'AUDIO021.WAV', 'AUDIO022.WAV', 'AUDIO023.WAV', 'AUDIO024.WAV']\n"
     ]
    }
   ],
   "source": [
    "# let's ask for a list of files on the Tympan's SD card\n",
    "tymp.sendTextToSerial(tympan_port, 'L')                         #send the command to the Tympan\n",
    "reply = tymp.readMultipleLinesFromSerial(tympan_port)           #get the one-line reply from the Tympan\n",
    "print(\"REPLY:\",reply.strip())                                   #print the line to the screen here in Python\n",
    "\n",
    "# let's break up the full text reply into the filenames\n",
    "fnames = tymp.processLineIntoFilenames(reply)                   #parse out the filenames\n",
    "print(\"RESULT: Files on Tympan SD:\", fnames)                    #print the line to the screen here in Python"
   ]
  },
  {
   "cell_type": "markdown",
   "metadata": {},
   "source": [
    "### Download file to the PC"
   ]
  },
  {
   "cell_type": "code",
   "execution_count": 9,
   "metadata": {},
   "outputs": [
    {
     "name": "stdout",
     "output_type": "stream",
     "text": [
      "ACTION: Asking for file: AUDIO024.WAV\n",
      "REPLY: SerialMonitor: Opening file: Send filename (ending with newline character) within 10 seconds\n",
      "REPLY: SerialMonitor: AUDIO024.WAV successfully opened\n",
      "RESULT: File size (B) = 4607020\n",
      "Successfully downloaded Bytes:  4607020\n"
     ]
    }
   ],
   "source": [
    "err = []\n",
    "reply = []\n",
    "\n",
    "# Specify a name using file_to_download or leave blank to download the last file\n",
    "file_to_download =  []              #'PLAY1.WAV'\n",
    "\n",
    "if (file_to_download):\n",
    "    pass\n",
    "elif len(fnames) > 0:\n",
    "    file_to_download = fnames[-1] #load the last (ie, the most recent?)\n",
    "else:\n",
    "    err = \"ERR: No file specified\"\n",
    "    print(err)\n",
    "\n",
    "\n",
    "# Prepare to open a the file on the Tympan\n",
    "if not(err):\n",
    "    print(\"ACTION: Asking for file:\",file_to_download)\n",
    "    tymp.sendTextToSerial(tympan_port, 'f')                   \n",
    "    reply = tymp.readLineFromSerial(tympan_port)             \n",
    "    print(\"REPLY:\",reply.strip())                            \n",
    "\n",
    "    # Check for errors\n",
    "    if (\"ERROR\" in reply):\n",
    "        err = reply\n",
    "\n",
    "\n",
    "# Send the filename that we want\n",
    "reply = []\n",
    "if not(err):\n",
    "    tymp.sendTextToSerial(tympan_port, file_to_download)     \n",
    "    reply = tymp.readLineFromSerial(tympan_port)              \n",
    "    print(\"REPLY:\",reply.strip())              \n",
    "    \n",
    "# Check for errors\n",
    "if (\"ERROR\" in reply):\n",
    "    err = reply\n",
    "    print(\"Err: \", reply)      \n",
    "\n",
    "\n",
    "# Get the file size in bytes\n",
    "reply = []\n",
    "n_bytes = []\n",
    "if not(err):\n",
    "    tymp.sendTextToSerial(tympan_port, 'b')                   #send the command to the Tympan\n",
    "    reply = tymp.readLineFromSerial(tympan_port)              #get the one-line reply from the Tympan\n",
    "       \n",
    "    # Check for error\n",
    "    try:\n",
    "        n_bytes = int(reply)                                      #interpret the value as an integer\n",
    "        if (n_bytes>0):\n",
    "            print(\"RESULT: File size (B) =\", n_bytes)                           #print the value to the screen here in Python\n",
    "    \n",
    "    except Exception as e:\n",
    "        err = e\n",
    "        print(\"Err: Bad file size.\", err)\n",
    "\n",
    "\n",
    "# Transfer the file itself\n",
    "if not(err):\n",
    "    # Clear the buffer\n",
    "    tymp.clear_buffer(tympan_port) \n",
    "\n",
    "    # Receive file from the Tympan\n",
    "    tymp.sendTextToSerial(tympan_port, 't')                   #send the command to the Tympan\n",
    "    reply = tymp.readBytesFromSerial(tympan_port,n_bytes)     \n",
    "    #print(\"REPLY:\",reply)                                     #print the bytes to the screen here in Python\n",
    "\n",
    "    #Check for error\n",
    "    try:\n",
    "        if(n_bytes==len(reply)):\n",
    "            print (\"Successfully downloaded Bytes: \", n_bytes)\n",
    "            wav_bin = reply\n",
    "        else:\n",
    "            err = \"Err: Did not download full file size\"\n",
    "            print(err)\n",
    "    except Exception as e:\n",
    "        err = e\n",
    "        print(err)"
   ]
  },
  {
   "cell_type": "markdown",
   "metadata": {},
   "source": [
    "### Verify WAV file"
   ]
  },
  {
   "cell_type": "code",
   "execution_count": 10,
   "metadata": {},
   "outputs": [
    {
     "name": "stdout",
     "output_type": "stream",
     "text": [
      "WAV File Verifed\n"
     ]
    }
   ],
   "source": [
    "# Verify wav file header starts with ASCII 'RIFF' (0x52494646) and 'fmt '\n",
    "if (wav_bin[0:4] == bytearray(b'RIFF')) and \\\n",
    "    (wav_bin[12:16] == bytearray(b'fmt ')) and \\\n",
    "    (wav_bin[36:40]==bytearray(b'data')):\n",
    "    \n",
    "    print(\"WAV File Verifed\")      #Could you better error checking of header vs data\n",
    "\n",
    "# Header not valid, or could be a header file of unexpected length. \n",
    "#    Should actually search for the keyword 'data' then skip 4 bytes\n",
    "else: \n",
    "    err = 'ERR: Wave file header not valid, or header unexpected length'\n",
    "    print(err)"
   ]
  },
  {
   "cell_type": "markdown",
   "metadata": {},
   "source": [
    "### Split WAV file into Header and Data"
   ]
  },
  {
   "cell_type": "code",
   "execution_count": 11,
   "metadata": {},
   "outputs": [
    {
     "name": "stdout",
     "output_type": "stream",
     "text": [
      "{'FileSize': 4607012, 'AudioFormat': 1, 'num_channels': 4, 'SampleRate': 96000, 'BitsPerSample': 16, 'DataSize': 4606976}\n"
     ]
    }
   ],
   "source": [
    "import struct\n",
    "import numpy as np\n",
    "\n",
    "# Parse header properties\n",
    "wav_props = {}\n",
    "wav_props['FileSize'] = struct.unpack('<L', wav_bin[4:8])[0]  #4609068\n",
    "wav_props['AudioFormat'] = struct.unpack('<H', wav_bin[20:22])[0]\n",
    "wav_props[\"num_channels\"] = struct.unpack('<H', wav_bin[22:24])[0]\n",
    "wav_props['SampleRate'] = struct.unpack('<L', wav_bin[24:28])[0]\n",
    "wav_props['BitsPerSample'] = struct.unpack('<H', wav_bin[34:36])[0]\n",
    "wav_props['DataSize'] = struct.unpack('<L', wav_bin[40:44])[0]  #4609068\n",
    "\n",
    "print(wav_props)\n",
    "\n",
    "# Parse data \n",
    "bufferF32 = np.frombuffer(wav_bin[44:], dtype=\"i\")\n",
    "wavF32 = bufferF32.reshape(-1,wav_props[\"num_channels\"])"
   ]
  },
  {
   "cell_type": "markdown",
   "metadata": {},
   "source": [
    "### Plot Data"
   ]
  },
  {
   "cell_type": "code",
   "execution_count": 13,
   "metadata": {},
   "outputs": [
    {
     "data": {
      "image/png": "[encoded data removed]",
      "text/plain": [
       "<Figure size 640x480 with 4 Axes>"
      ]
     },
     "metadata": {},
     "output_type": "display_data"
    }
   ],
   "source": [
    "from matplotlib import pyplot as plt\n",
    "\n",
    "fig, axs = plt.subplots(wav_props['num_channels'])\n",
    "fig.suptitle(file_to_download)\n",
    "for chanIdx in range(wav_props['num_channels']):\n",
    "    axs[chanIdx].plot(wavF32[:,chanIdx])"
   ]
  },
  {
   "cell_type": "markdown",
   "metadata": {},
   "source": [
    "### Write file to local disk"
   ]
  },
  {
   "cell_type": "code",
   "execution_count": 14,
   "metadata": {},
   "outputs": [
    {
     "name": "stdout",
     "output_type": "stream",
     "text": [
      "Wav file written: C:\\Users\\eyuan\\Downloads\\AUDIO024.WAV\n"
     ]
    }
   ],
   "source": [
    "import tkinter as tk\n",
    "from tkinter import filedialog\n",
    "from pathlib import Path\n",
    "\n",
    "root = tk.Tk()\n",
    "root.withdraw()\n",
    "\n",
    "if not(err):\n",
    "    if not (\"file_path\" in locals() ):\n",
    "        file_path = Path(filedialog.askdirectory())\n",
    "\n",
    "    with open(file_path/file_to_download, \"wb\") as file:\n",
    "        file.write(wav_bin)\n",
    "        print(\"Wav file written:\", file_path/file_to_download)\n"
   ]
  },
  {
   "cell_type": "markdown",
   "metadata": {},
   "source": [
    "### Read WAV file back into Python"
   ]
  },
  {
   "cell_type": "code",
   "execution_count": 15,
   "metadata": {},
   "outputs": [
    {
     "name": "stdout",
     "output_type": "stream",
     "text": [
      "Reading WAV file back in:  AUDIO024.WAV\n",
      "Sample Rate (hz):  96000\n",
      "Channels:  4\n"
     ]
    }
   ],
   "source": [
    "import wave\n",
    "import numpy as np\n",
    "\n",
    "with wave.open(str(file_path/file_to_download), 'rb') as f:\n",
    "    print(\"Reading WAV file back in: \", file_to_download)\n",
    "    print(\"Sample Rate (hz): \", f.getframerate())\n",
    "    print(\"Channels: \", f.getnchannels())\n",
    "    wav_rate_hz = f.getframerate()\n",
    "    wav_num_channels = f.getnchannels()\n",
    "\n",
    "    # Read the whole file into a buffer. If you are dealing with a large file\n",
    "    # then you should read it in blocks and process them separately.\n",
    "    buffer = f.readframes(f.getnframes())\n",
    "    # Convert the buffer to a numpy array by checking the size of the sample\n",
    "    # width in bytes. The output will be a 1D array with interleaved channels.\n",
    "    interleaved = np.frombuffer(buffer, dtype=f'int{f.getsampwidth()*8}')\n",
    "    # Reshape it into a 2D array separating the channels in columns.\n",
    "    wav_data = np.reshape(interleaved, (-1, f.getnchannels()))"
   ]
  },
  {
   "cell_type": "markdown",
   "metadata": {},
   "source": [
    "### Plot Local Wav File"
   ]
  },
  {
   "cell_type": "code",
   "execution_count": 16,
   "metadata": {},
   "outputs": [
    {
     "data": {
      "image/png": "[encoded data removed]",
      "text/plain": [
       "<Figure size 640x480 with 4 Axes>"
      ]
     },
     "metadata": {},
     "output_type": "display_data"
    }
   ],
   "source": [
    "fig, axs = plt.subplots(wav_num_channels)\n",
    "fig.suptitle(file_to_download)\n",
    "for chanIdx in range(wav_num_channels):\n",
    "    axs[chanIdx].plot(wav_data[:,chanIdx])"
   ]
  },
  {
   "cell_type": "markdown",
   "metadata": {},
   "source": [
    "### Play audio"
   ]
  },
  {
   "cell_type": "code",
   "execution_count": 18,
   "metadata": {},
   "outputs": [],
   "source": [
    "import pygame\n",
    "pygame.mixer.init()\n",
    "pygame.mixer.music.load(file_path/file_to_download)\n",
    "pygame.mixer.music.play()\n",
    "while pygame.mixer.music.get_busy():\n",
    "    pass"
   ]
  },
  {
   "cell_type": "code",
   "execution_count": null,
   "metadata": {},
   "outputs": [],
   "source": [
    "# Close Serial Port\n",
    "tympan_port.close()"
   ]
  },
  {
   "cell_type": "markdown",
   "metadata": {},
   "source": []
  }
 ],
 "metadata": {
  "kernelspec": {
   "display_name": "Python 3",
   "language": "python",
   "name": "python3"
  },
  "language_info": {
   "codemirror_mode": {
    "name": "ipython",
    "version": 3
   },
   "file_extension": ".py",
   "mimetype": "text/x-python",
   "name": "python",
   "nbconvert_exporter": "python",
   "pygments_lexer": "ipython3",
   "version": "3.13.0"
  }
 },
 "nbformat": 4,
 "nbformat_minor": 2
}
