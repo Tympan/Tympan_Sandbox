{
 "cells": [
  {
   "cell_type": "markdown",
   "metadata": {},
   "source": [
    "# Demo Retrieving Wav Files to Tympan"
   ]
  },
  {
   "cell_type": "code",
   "execution_count": 1,
   "metadata": {},
   "outputs": [],
   "source": [
    "import tympan_serial as tymp                # Module for managing Tympan serial ports and file transfer\n",
    "#from time import sleep"
   ]
  },
  {
   "cell_type": "markdown",
   "metadata": {},
   "source": [
    "### Open Serial Port"
   ]
  },
  {
   "cell_type": "code",
   "execution_count": 2,
   "metadata": {},
   "outputs": [
    {
     "name": "stdout",
     "output_type": "stream",
     "text": [
      "Opened:  COM5\n"
     ]
    }
   ],
   "source": [
    "tymp_port = tymp.TympanSerial()\n",
    "err = None\n",
    "err = tymp_port.connect()"
   ]
  },
  {
   "cell_type": "markdown",
   "metadata": {},
   "source": [
    "### Print Help Menu"
   ]
  },
  {
   "cell_type": "code",
   "execution_count": 3,
   "metadata": {},
   "outputs": [
    {
     "name": "stdout",
     "output_type": "stream",
     "text": [
      "SerialManager Help: Available Commands:\n",
      " General: No Prefix\n",
      "   h    : Print this help\n",
      "   w/W/e/E: INPUT  : Switch to the PCB Mics / Pink Jack - Mic Bias / Pink Jack Line in / Digital mics\n",
      "   k/K  : CHIRP  : Incr/decrease loudness of chirp (cur = 0.0 dBFS)\n",
      "   d/D  : CHIRP  : Incr/decrease duration of chirp (cur = 5.0 sec)\n",
      "   n    : CHIRP  : Start the chirp\n",
      "   1-3  : SDPlay : Play files 1-3 from SD Card\n",
      "   q    : SDPlay : Stop any currently plying SD files\n",
      "   c    : AutoWrite : Start chirp and SD recording together\n",
      "   4-6  : AutoWrite : Start files 1-3 from SD Card and SD recording together\n",
      "   g/G  : OUTPUT : Incr/decrease DAC loudness (cur = -20.0 dB)\n",
      "   r/s  : SDWrite: Manually Start/Stop recording\n",
      "---------------------------------------------------\n",
      "   L    : List of the files on SD card\n",
      "   f    : Open the file from SD (will prompt you for filename)\n",
      "   b    : Get the size of the file in bytes\n",
      "   t    : Transfer the whole file from SD to Serial\n",
      " AudioSDWriter: Prefix = _Ax\n",
      "   r,s,d: SD recor\n"
     ]
    }
   ],
   "source": [
    "tymp_port.send_char(\"h\")\n",
    "reply = tymp_port.read_all()\n",
    "print (reply)"
   ]
  },
  {
   "cell_type": "markdown",
   "metadata": {},
   "source": [
    "### Set Audio Input"
   ]
  },
  {
   "cell_type": "code",
   "execution_count": 186,
   "metadata": {},
   "outputs": [
    {
     "name": "stdout",
     "output_type": "stream",
     "text": [
      "d/stop/deleteAll\n",
      "\n",
      "Received: Switch input to digital PDM mics\n",
      "AudioControlAIC3206: Received Error During goToPage(): Error = 2\n",
      "AudioControlAIC3206: Received Error During writeRegister(): Error = 2\n",
      "AudioControlAIC3206: Received Error During writeRegister(): Error = 2\n",
      "AudioControlAIC3206: Received Error During writeRegister(): Error = 2\n",
      "AudioControlAIC3206: Received Error During writeRegister(): Error = 2\n",
      "AudioControlAIC3206: Received Error During goToPage(): Error = 2\n",
      "AudioControlAIC3206: Received Error During goToPage(): Error = 2\n",
      "AudioControlAIC3206: Received Error During goToPage(): Error = 2\n",
      "AudioControlAIC3206: Received Error During goToPage(): Error = 2\n",
      "AudioControlAIC3206: Received Error During goToPage(): Error = 2\n",
      "AudioControlAIC3206: Received Error During goToPage(): Error = 2\n",
      "SerialManagerBase: sending: STATE=BTN:configPCB:0\n",
      "SerialManagerBase: sending: STATE=BTN:configMIC:0\n",
      "SerialManagerBase: sending: STATE=BTN:configLINE:0\n",
      "SerialManagerBase: sending: STATE=BTN:configPDM:0\n",
      "SerialManagerBase: sending: S\n"
     ]
    }
   ],
   "source": [
    "# Set audio input\n",
    "tymp_port.send_char('E')                             # Digital (PDM) mics\n",
    "#tymp_port.send_char('W')                            # Pink mic jack with bias voltage\n",
    "#tymp_port.send_char('e')                            # Pink mic jack with no bias (generally not used with typical mics)\n",
    "#tymp_port.send_char('w')                            # PCB mics on Tympan board\n",
    "\n",
    "reply = tymp_port.read_all()\n",
    "print (reply)"
   ]
  },
  {
   "cell_type": "markdown",
   "metadata": {},
   "source": [
    "### Play a wav file from SD card"
   ]
  },
  {
   "cell_type": "code",
   "execution_count": 5,
   "metadata": {},
   "outputs": [
    {
     "name": "stdout",
     "output_type": "stream",
     "text": [
      "TATE=BTN:configPDM:1\n",
      "SerialManagerBase: sending: TEXT=BTN:inpGain:0.0\n",
      "serviceAudioSdStartStop: Starting SD 1 playback...\n",
      "serviceChirpStartStop: Chirp or SD has finished.\n",
      "\n"
     ]
    }
   ],
   "source": [
    "tymp_port.send_char('1')\n",
    "\n",
    "reply = tymp_port.read_line(eof_str=\"finished.\")\n",
    "print(reply)"
   ]
  },
  {
   "cell_type": "markdown",
   "metadata": {},
   "source": [
    "### Play a wav file from SD and make a recording"
   ]
  },
  {
   "cell_type": "code",
   "execution_count": null,
   "metadata": {},
   "outputs": [],
   "source": [
    "tymp_port.send_char('4')\n",
    "reply = tymp_port.read_line(eof_str=\"finished.\", timeout_s=5)\n",
    "print(reply)\n",
    "\n",
    "# Clear buffer\n",
    "tymp_port.read_all()"
   ]
  },
  {
   "cell_type": "markdown",
   "metadata": {},
   "source": [
    "### List files on Tympan SD card"
   ]
  },
  {
   "cell_type": "code",
   "execution_count": 265,
   "metadata": {},
   "outputs": [
    {
     "name": "stdout",
     "output_type": "stream",
     "text": [
      ". RESULT: Files on Tympan SD:\n",
      "\t dummy.txt\n",
      "\t AUDIO001.WAV\n",
      "\t AUDIO002.WAV\n",
      "\t AUDIO003.WAV\n",
      "\t AUDIO004.WAV\n",
      "\t AUDIO005.WAV\n",
      "\t AUDIO006.WAV\n",
      "\t AUDIO007.WAV\n",
      "\t AUDIO008.WAV\n",
      "\t AUDIO009.WAV\n",
      "\t AUDIO010.WAV\n",
      "\t AUDIO011.WAV\n",
      "\t AUDIO012.WAV\n",
      "\t AUDIO013.WAV\n",
      "\t AUDIO014.WAV\n",
      "\t AUDIO015.WAV\n",
      "\t AUDIO016.WAV\n",
      "\t AUDIO017.WAV\n",
      "\t AUDIO018.WAV\n",
      "\t AUDIO019.WAV\n"
     ]
    }
   ],
   "source": [
    "def processLineIntoFilenames(line):\n",
    "    # Assumes we are given one line that contains comma-seperated filenames.  \n",
    "    # The line of text might contain preamble text, which will end with a colon.\n",
    "    # So, find the last colon and only keep the text after the last colon.\n",
    "    line = line.split(':')  #split into sections\n",
    "    line = line[-1]  #get everything after the last split\n",
    "    \n",
    "    #Now, split the text at the colons\n",
    "    names = line.split(',')\n",
    "    all_fnames = []\n",
    "    for name in names:\n",
    "        name = name.strip()\n",
    "        if len(name) > 0:\n",
    "            all_fnames.append(name.strip())  #remove whitespace before and after and save\n",
    "        #\n",
    "    #\n",
    "    return all_fnames\n",
    "\n",
    "# let's ask for a list of files on the Tympan's SD card\n",
    "tymp_port.get_rx_buffer()                                      # Clear buffer\n",
    "tymp_port.send_char(\"L\")\n",
    "reply = tymp_port.read_line(timeout_s=2)\n",
    "\n",
    "# let's break up the full text reply into the filenames\n",
    "fnames = processLineIntoFilenames(reply)                   #parse out the filenames\n",
    "print(\"RESULT: Files on Tympan SD:\")\n",
    "for f in fnames:\n",
    "    print(\"\\t\", f)                    #print the line to the screen here in Python"
   ]
  },
  {
   "cell_type": "markdown",
   "metadata": {},
   "source": [
    "### Download file to the PC"
   ]
  },
  {
   "cell_type": "code",
   "execution_count": 266,
   "metadata": {},
   "outputs": [
    {
     "name": "stdout",
     "output_type": "stream",
     "text": [
      "ACTION: Asking for file: AUDIO019.WAV\n",
      ". REPLY: SerialMonitor: Opening file: Send filename (ending with newline character) within 10 seconds\n",
      "REPLY: SerialMonitor: AUDIO019.WAV successfully opened\n"
     ]
    }
   ],
   "source": [
    "err = None\n",
    "\n",
    "# Specify a name using file_to_download or leave blank to download the last file\n",
    "file_to_download = None              #'PLAY1.WAV'\n",
    "\n",
    "# Check that there are files to download\n",
    "if len(fnames) <1:\n",
    "    err = \"ERR: No file specified\"\n",
    "    print(err)\n",
    "\n",
    "# If no file specified, use the last file listed\n",
    "if (not err and not file_to_download):\n",
    "    file_to_download = fnames[-1] #load the last (ie, the most recent?)\n",
    "\n",
    "# Prepare to open a the file on the Tympan\n",
    "reply = []\n",
    "if not(err):\n",
    "    print(\"ACTION: Asking for file:\",file_to_download)\n",
    "    tymp_port.send_char('f')    \n",
    "    reply = tymp_port.read_line(timeout_s=3)\n",
    "    print(\"REPLY:\",reply.strip())                            \n",
    "\n",
    "    # Check for errors\n",
    "    if (\"ERROR\" in reply):\n",
    "        err = reply\n",
    "        \n",
    "# Send the filename that we want\n",
    "reply = []\n",
    "if not(err):\n",
    "    tymp_port.send_string(file_to_download)     \n",
    "    reply = tymp_port.read_line(eof_str='successfully opened', timeout_s=3)\n",
    "    print(\"REPLY:\",reply.strip())              \n",
    "    \n",
    "    # Check for errors\n",
    "    if (\"ERROR\" in reply):\n",
    "        err = reply\n",
    "        print(\"Err: \", reply)      "
   ]
  },
  {
   "cell_type": "code",
   "execution_count": 267,
   "metadata": {},
   "outputs": [
    {
     "name": "stdout",
     "output_type": "stream",
     "text": [
      ". RESULT: File size:  384044  bytes\n",
      ". RESULT: File size (B) = 384044\n"
     ]
    }
   ],
   "source": [
    "# Get the file size in bytes\n",
    "reply = []\n",
    "n_bytes = []\n",
    "\n",
    "if not(err):\n",
    "    # Clear the buffer\n",
    "    tymp_port.read_all() \n",
    "\n",
    "    tymp_port.send_char('b')                   \n",
    "    reply = tymp_port.read_line(timeout_s=3)\n",
    "       \n",
    "    # Check for error\n",
    "    try:\n",
    "        n_bytes = int(reply)                                      \n",
    "        if (n_bytes>0):\n",
    "            print(\"RESULT: File size: \", n_bytes, \" bytes\")                           \n",
    "    \n",
    "    except Exception as e:\n",
    "        err = e\n",
    "        print(\"Err: Failed to read file size.\", err)\n",
    "\n",
    "if not(err):\n",
    "    # Clear the buffer\n",
    "    tymp_port.read_all() \n",
    "\n",
    "    tymp_port.send_char('b')                   \n",
    "    reply = tymp_port.read_line(timeout_s=3)\n",
    "       \n",
    "    # Check for error\n",
    "    try:\n",
    "        n_bytes = int(reply)                                      \n",
    "        if (n_bytes>0):\n",
    "            print(\"RESULT: File size (B) =\", n_bytes)                           \n",
    "    \n",
    "    except Exception as e:\n",
    "        err = e\n",
    "        print(\"Err: Bad file size.\", err)"
   ]
  },
  {
   "cell_type": "code",
   "execution_count": 268,
   "metadata": {},
   "outputs": [
    {
     "name": "stdout",
     "output_type": "stream",
     "text": [
      ".. .. .. .. .. .. .. .. .. .. .. .. .. .. .. .. .. .. .. .. .. .. .. .. .. .. .. .. .. .. .. .. .. .. .. .. .. .. .. .. .. .. .. .. .. .. .Successfully downloaded Bytes:  384044\n"
     ]
    }
   ],
   "source": [
    "# Transfer the file itself\n",
    "block_size = 8192\n",
    "end_seq_bytes = 2\n",
    "\n",
    "if not(err):\n",
    "    # Clear the buffer\n",
    "    tymp_port.get_rx_buffer()\n",
    "    buf = bytearray()\n",
    "    transfer_done_flag = False\n",
    "\n",
    "    while( (len(buf)<n_bytes ) and not(transfer_done_flag) ):\n",
    "        #Request (1) block\n",
    "        tymp_port.send_char('t')\n",
    "        print(\".\", end='')\n",
    "        tmp_buf = tymp_port.get_rx_buffer(timeout_s=.5, num_bytes=block_size+2)\n",
    "        \n",
    "        # Append block (but leave off (2) bytes for the \\r and \\n)\n",
    "        if( len(tmp_buf)>0 ):\n",
    "            buf +=tmp_buf[0:-2]\n",
    "            \n",
    "        else:\n",
    "            transfer_done_flag = True\n",
    "\n",
    "    #Check for error\n",
    "    try:\n",
    "        if(n_bytes==len(buf)):\n",
    "            print (\"Successfully downloaded Bytes: \", n_bytes)\n",
    "            wav_bin = buf\n",
    "        else:\n",
    "            err = \"Err: Did not download full file size\"\n",
    "            print(err, len(buf), 'of', n_bytes)\n",
    "    except Exception as e:\n",
    "        err = e\n",
    "        print(err)"
   ]
  },
  {
   "cell_type": "markdown",
   "metadata": {},
   "source": [
    "### Verify WAV file"
   ]
  },
  {
   "cell_type": "code",
   "execution_count": 270,
   "metadata": {},
   "outputs": [
    {
     "name": "stdout",
     "output_type": "stream",
     "text": [
      "WAV File Verifed\n"
     ]
    }
   ],
   "source": [
    "# Verify wav file header starts with ASCII 'RIFF' (0x52494646) and 'fmt '\n",
    "if (wav_bin[0:4] == bytearray(b'RIFF')) and \\\n",
    "    (wav_bin[12:16] == bytearray(b'fmt ')) and \\\n",
    "    (wav_bin[36:40]==bytearray(b'data')):\n",
    "    \n",
    "    print(\"WAV File Verifed\")      #Could you better error checking of header vs data\n",
    "\n",
    "# Header not valid, or could be a header file of unexpected length. \n",
    "#    Should actually search for the keyword 'data' then skip 4 bytes\n",
    "else: \n",
    "    err = 'ERR: Wave file header not valid, or header unexpected length'\n",
    "    print(err)"
   ]
  },
  {
   "cell_type": "markdown",
   "metadata": {},
   "source": [
    "### Split WAV file into Header and Data"
   ]
  },
  {
   "cell_type": "code",
   "execution_count": 271,
   "metadata": {},
   "outputs": [
    {
     "name": "stdout",
     "output_type": "stream",
     "text": [
      "{'FileSize': 384036, 'AudioFormat': 1, 'num_channels': 4, 'SampleRate': 96000, 'BitsPerSample': 16, 'DataSize': 384000}\n"
     ]
    }
   ],
   "source": [
    "import struct\n",
    "import numpy as np\n",
    "\n",
    "# Parse header properties\n",
    "wav_props = {}\n",
    "wav_props['FileSize'] = struct.unpack('<L', wav_bin[4:8])[0]\n",
    "wav_props['AudioFormat'] = struct.unpack('<H', wav_bin[20:22])[0]\n",
    "wav_props[\"num_channels\"] = struct.unpack('<H', wav_bin[22:24])[0]\n",
    "wav_props['SampleRate'] = struct.unpack('<L', wav_bin[24:28])[0]\n",
    "wav_props['BitsPerSample'] = struct.unpack('<H', wav_bin[34:36])[0]\n",
    "wav_props['DataSize'] = struct.unpack('<L', wav_bin[40:44])[0]\n",
    "\n",
    "print(wav_props)\n",
    "\n",
    "# Verify FileSize = Total size - 8 bytes (as per WAV standard)\n",
    "if ( (wav_props['FileSize']+8) ==n_bytes):\n",
    "    # Parse data \n",
    "    bufI16 = np.frombuffer(wav_bin[44:], dtype=np.int16)\n",
    "    wavI16 = bufI16.reshape(-1,wav_props[\"num_channels\"])\n",
    "else:\n",
    "    err = \"Err: Invalid file size\"\n",
    "    print(err)\n"
   ]
  },
  {
   "cell_type": "markdown",
   "metadata": {},
   "source": [
    "### Plot Data"
   ]
  },
  {
   "cell_type": "code",
   "execution_count": 273,
   "metadata": {},
   "outputs": [
    {
     "data": {
      "image/png": "[encoded data removed]",
      "text/plain": [
       "<Figure size 640x480 with 4 Axes>"
      ]
     },
     "metadata": {},
     "output_type": "display_data"
    }
   ],
   "source": [
    "from matplotlib import pyplot as plt\n",
    "\n",
    "fig, axs = plt.subplots(wav_props['num_channels'])\n",
    "fig.suptitle(file_to_download)\n",
    "for chanIdx in range(wav_props['num_channels']):\n",
    "    axs[chanIdx].plot(wavI16[:,chanIdx])"
   ]
  },
  {
   "cell_type": "markdown",
   "metadata": {},
   "source": [
    "### Write file to local disk"
   ]
  },
  {
   "cell_type": "code",
   "execution_count": 274,
   "metadata": {},
   "outputs": [
    {
     "name": "stdout",
     "output_type": "stream",
     "text": [
      "Wav file written: C:\\Users\\eyuan\\Downloads\\AUDIO019.WAV\n"
     ]
    }
   ],
   "source": [
    "import tkinter as tk\n",
    "from tkinter import filedialog\n",
    "from pathlib import Path\n",
    "\n",
    "root = tk.Tk()\n",
    "root.withdraw()\n",
    "\n",
    "if not(err):\n",
    "    if not (\"file_path\" in locals() ):\n",
    "        file_path = Path(filedialog.askdirectory())\n",
    "\n",
    "    with open(file_path/file_to_download, \"wb\") as file:\n",
    "        file.write(wav_bin)\n",
    "        print(\"Wav file written:\", file_path/file_to_download)\n"
   ]
  },
  {
   "cell_type": "markdown",
   "metadata": {},
   "source": [
    "### Read WAV file back into Python"
   ]
  },
  {
   "cell_type": "code",
   "execution_count": 275,
   "metadata": {},
   "outputs": [
    {
     "name": "stdout",
     "output_type": "stream",
     "text": [
      "Reading WAV file back in:  AUDIO019.WAV\n",
      "Sample Rate (hz):  96000\n",
      "Channels:  4\n"
     ]
    }
   ],
   "source": [
    "import wave\n",
    "import numpy as np\n",
    "\n",
    "with wave.open(str(file_path/file_to_download), 'rb') as f:\n",
    "    print(\"Reading WAV file back in: \", file_to_download)\n",
    "    print(\"Sample Rate (hz): \", f.getframerate())\n",
    "    print(\"Channels: \", f.getnchannels())\n",
    "    wav_rate_hz = f.getframerate()\n",
    "    wav_num_channels = f.getnchannels()\n",
    "\n",
    "    # Read the whole file into a buffer. If you are dealing with a large file\n",
    "    # then you should read it in blocks and process them separately.\n",
    "    buffer = f.readframes(f.getnframes())\n",
    "    # Convert the buffer to a numpy array by checking the size of the sample\n",
    "    # width in bytes. The output will be a 1D array with interleaved channels.\n",
    "    interleaved = np.frombuffer(buffer, dtype=f'int{f.getsampwidth()*8}')\n",
    "    # Reshape it into a 2D array separating the channels in columns.\n",
    "    wav_data = np.reshape(interleaved, (-1, f.getnchannels()))"
   ]
  },
  {
   "cell_type": "markdown",
   "metadata": {},
   "source": [
    "### Plot Local Wav File"
   ]
  },
  {
   "cell_type": "code",
   "execution_count": 276,
   "metadata": {},
   "outputs": [
    {
     "data": {
      "image/png": "[encoded data removed]",
      "text/plain": [
       "<Figure size 640x480 with 4 Axes>"
      ]
     },
     "metadata": {},
     "output_type": "display_data"
    }
   ],
   "source": [
    "fig, axs = plt.subplots(wav_num_channels)\n",
    "fig.suptitle(file_to_download)\n",
    "for chanIdx in range(wav_num_channels):\n",
    "    axs[chanIdx].plot(wav_data[:,chanIdx])"
   ]
  },
  {
   "cell_type": "markdown",
   "metadata": {},
   "source": [
    "### Play audio"
   ]
  },
  {
   "cell_type": "code",
   "execution_count": 279,
   "metadata": {},
   "outputs": [],
   "source": [
    "import pygame\n",
    "pygame.mixer.init()\n",
    "pygame.mixer.music.load(file_path/file_to_download)\n",
    "pygame.mixer.music.play()\n",
    "while pygame.mixer.music.get_busy():\n",
    "    pass"
   ]
  },
  {
   "cell_type": "code",
   "execution_count": 283,
   "metadata": {},
   "outputs": [],
   "source": [
    "# Close Serial Port\n",
    "tymp_port.stop_rx_thread()\n",
    "tymp_port.port_h.close()"
   ]
  },
  {
   "cell_type": "markdown",
   "metadata": {},
   "source": []
  }
 ],
 "metadata": {
  "kernelspec": {
   "display_name": "Python 3",
   "language": "python",
   "name": "python3"
  },
  "language_info": {
   "codemirror_mode": {
    "name": "ipython",
    "version": 3
   },
   "file_extension": ".py",
   "mimetype": "text/x-python",
   "name": "python",
   "nbconvert_exporter": "python",
   "pygments_lexer": "ipython3",
   "version": "3.13.0"
  }
 },
 "nbformat": 4,
 "nbformat_minor": 2
}
